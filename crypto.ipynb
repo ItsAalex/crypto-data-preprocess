{
 "cells": [
  {
   "cell_type": "markdown",
   "id": "b90f850e",
   "metadata": {},
   "source": [
    "### IMPORTS"
   ]
  },
  {
   "cell_type": "code",
   "execution_count": null,
   "id": "4786e833",
   "metadata": {},
   "outputs": [],
   "source": [
    "import numpy as np\n",
    "import pandas as pd\n",
    "import matplotlib.pyplot as plt\n",
    "%matplotlib inline"
   ]
  },
  {
   "cell_type": "markdown",
   "id": "0030cb35",
   "metadata": {},
   "source": [
    "### READ crypto-terminology.csv TABLE"
   ]
  },
  {
   "cell_type": "code",
   "execution_count": 2,
   "id": "074d78e3",
   "metadata": {
    "scrolled": true
   },
   "outputs": [
    {
     "data": {
      "text/html": [
       "<div>\n",
       "<style scoped>\n",
       "    .dataframe tbody tr th:only-of-type {\n",
       "        vertical-align: middle;\n",
       "    }\n",
       "\n",
       "    .dataframe tbody tr th {\n",
       "        vertical-align: top;\n",
       "    }\n",
       "\n",
       "    .dataframe thead th {\n",
       "        text-align: right;\n",
       "    }\n",
       "</style>\n",
       "<table border=\"1\" class=\"dataframe\">\n",
       "  <thead>\n",
       "    <tr style=\"text-align: right;\">\n",
       "      <th></th>\n",
       "      <th></th>\n",
       "    </tr>\n",
       "  </thead>\n",
       "  <tbody>\n",
       "    <tr>\n",
       "      <th>Date</th>\n",
       "      <th>Indicates when the data was recorded.</th>\n",
       "    </tr>\n",
       "    <tr>\n",
       "      <th>Currency</th>\n",
       "      <th>Specifies the cryptocurrency(name of cryptocurrency).</th>\n",
       "    </tr>\n",
       "    <tr>\n",
       "      <th>Open</th>\n",
       "      <th>Represents the opening price of the cryptocurrency at the beginning of a day.</th>\n",
       "    </tr>\n",
       "    <tr>\n",
       "      <th>High</th>\n",
       "      <th>Highest price of the cryptocurrency during the day.</th>\n",
       "    </tr>\n",
       "    <tr>\n",
       "      <th>Low</th>\n",
       "      <th>Lowest price of the cryptocurrency during the day.</th>\n",
       "    </tr>\n",
       "    <tr>\n",
       "      <th>Close</th>\n",
       "      <th>Closing price of cryptocurrency at the end of the day.</th>\n",
       "    </tr>\n",
       "    <tr>\n",
       "      <th>Volume</th>\n",
       "      <th>Indicates the trading volume, which represents the total quantity of the cryptocurrency traded during the day.</th>\n",
       "    </tr>\n",
       "    <tr>\n",
       "      <th>Market Cap</th>\n",
       "      <th>Market Capitalization column represents the total market value of the cryptocurrency. It is calculated by multiplying the current price (Close) by the total circulating supply of the cryptocurrency.</th>\n",
       "    </tr>\n",
       "    <tr>\n",
       "      <th>Bitcoin Halving</th>\n",
       "      <th>Every 210,000 blocks, or roughly every four years, miners' rewards are cut in half.</th>\n",
       "    </tr>\n",
       "    <tr>\n",
       "      <th>ETF</th>\n",
       "      <th>Exchange-traded fund (ETF) is a basket of securities that trades on an exchange just like a stock does.</th>\n",
       "    </tr>\n",
       "    <tr>\n",
       "      <th>Bull run</th>\n",
       "      <th>A bull market, or bull run, is defined as a period of time where the majority of investors are buying, demand outweighs supply, market confidence is at a high, and prices are rising.</th>\n",
       "    </tr>\n",
       "    <tr>\n",
       "      <th>Bear Market</th>\n",
       "      <th>a bear market is one in which the value of cryptocurrencies has fallen by at least 20% and is continuing to fall</th>\n",
       "    </tr>\n",
       "  </tbody>\n",
       "</table>\n",
       "</div>"
      ],
      "text/plain": [
       "Empty DataFrame\n",
       "Columns: []\n",
       "Index: [(Date, Indicates when the data was recorded.), (Currency, Specifies the cryptocurrency(name of cryptocurrency).), (Open, Represents the opening price of the cryptocurrency at the beginning of a day.), (High, Highest price of the cryptocurrency during the day.), (Low, Lowest price of the cryptocurrency during the day.), (Close, Closing price of cryptocurrency at the end of the day.), (Volume, Indicates the trading volume, which represents the total quantity of the cryptocurrency traded during the day.), (Market Cap, Market Capitalization column represents the total market value of the cryptocurrency. It is calculated by multiplying the current price (Close) by the total circulating supply of the cryptocurrency.), (Bitcoin Halving, Every 210,000 blocks, or roughly every four years, miners' rewards are cut in half.), (ETF,  Exchange-traded fund (ETF) is a basket of securities that trades on an exchange just like a stock does.), (Bull run, A bull market, or bull run, is defined as a period of time where the majority of investors are buying, demand outweighs supply, market confidence is at a high, and prices are rising.), (Bear Market,  a bear market is one in which the value of cryptocurrencies has fallen by at least 20% and is continuing to fall)]"
      ]
     },
     "execution_count": 2,
     "metadata": {},
     "output_type": "execute_result"
    }
   ],
   "source": [
    "# Read and show crypto terminology table\n",
    "df = pd.read_csv('crypto-terminology.csv', index_col=[0,1])\n",
    "df.dropna()"
   ]
  },
  {
   "cell_type": "markdown",
   "id": "03955e0c",
   "metadata": {},
   "source": [
    "### READ bitcoin.csv TABLE "
   ]
  },
  {
   "cell_type": "code",
   "execution_count": 20,
   "id": "00ad71da",
   "metadata": {},
   "outputs": [
    {
     "data": {
      "text/html": [
       "<div>\n",
       "<style scoped>\n",
       "    .dataframe tbody tr th:only-of-type {\n",
       "        vertical-align: middle;\n",
       "    }\n",
       "\n",
       "    .dataframe tbody tr th {\n",
       "        vertical-align: top;\n",
       "    }\n",
       "\n",
       "    .dataframe thead th {\n",
       "        text-align: right;\n",
       "    }\n",
       "</style>\n",
       "<table border=\"1\" class=\"dataframe\">\n",
       "  <thead>\n",
       "    <tr style=\"text-align: right;\">\n",
       "      <th></th>\n",
       "      <th>price</th>\n",
       "      <th>total_volume</th>\n",
       "      <th>market_cap</th>\n",
       "      <th>coin_name</th>\n",
       "    </tr>\n",
       "    <tr>\n",
       "      <th>date</th>\n",
       "      <th></th>\n",
       "      <th></th>\n",
       "      <th></th>\n",
       "      <th></th>\n",
       "    </tr>\n",
       "  </thead>\n",
       "  <tbody>\n",
       "    <tr>\n",
       "      <th>2015-01-01</th>\n",
       "      <td>313.992000</td>\n",
       "      <td>4.699936e+07</td>\n",
       "      <td>4.293958e+09</td>\n",
       "      <td>bitcoin</td>\n",
       "    </tr>\n",
       "    <tr>\n",
       "      <th>2015-01-02</th>\n",
       "      <td>314.446000</td>\n",
       "      <td>3.885591e+07</td>\n",
       "      <td>4.301448e+09</td>\n",
       "      <td>bitcoin</td>\n",
       "    </tr>\n",
       "    <tr>\n",
       "      <th>2015-01-03</th>\n",
       "      <td>286.572000</td>\n",
       "      <td>1.187789e+08</td>\n",
       "      <td>3.921358e+09</td>\n",
       "      <td>bitcoin</td>\n",
       "    </tr>\n",
       "    <tr>\n",
       "      <th>2015-01-04</th>\n",
       "      <td>260.936000</td>\n",
       "      <td>2.055001e+08</td>\n",
       "      <td>3.571640e+09</td>\n",
       "      <td>bitcoin</td>\n",
       "    </tr>\n",
       "    <tr>\n",
       "      <th>2015-01-05</th>\n",
       "      <td>273.220000</td>\n",
       "      <td>1.550381e+08</td>\n",
       "      <td>3.740880e+09</td>\n",
       "      <td>bitcoin</td>\n",
       "    </tr>\n",
       "    <tr>\n",
       "      <th>...</th>\n",
       "      <td>...</td>\n",
       "      <td>...</td>\n",
       "      <td>...</td>\n",
       "      <td>...</td>\n",
       "    </tr>\n",
       "    <tr>\n",
       "      <th>2024-01-21</th>\n",
       "      <td>41626.107110</td>\n",
       "      <td>9.533488e+09</td>\n",
       "      <td>8.172176e+11</td>\n",
       "      <td>bitcoin</td>\n",
       "    </tr>\n",
       "    <tr>\n",
       "      <th>2024-01-22</th>\n",
       "      <td>41541.899457</td>\n",
       "      <td>8.032697e+09</td>\n",
       "      <td>8.147094e+11</td>\n",
       "      <td>bitcoin</td>\n",
       "    </tr>\n",
       "    <tr>\n",
       "      <th>2024-01-23</th>\n",
       "      <td>39504.730058</td>\n",
       "      <td>3.120285e+10</td>\n",
       "      <td>7.750209e+11</td>\n",
       "      <td>bitcoin</td>\n",
       "    </tr>\n",
       "    <tr>\n",
       "      <th>2024-01-24</th>\n",
       "      <td>39833.454105</td>\n",
       "      <td>2.968333e+10</td>\n",
       "      <td>7.791334e+11</td>\n",
       "      <td>bitcoin</td>\n",
       "    </tr>\n",
       "    <tr>\n",
       "      <th>2024-01-25</th>\n",
       "      <td>40123.671058</td>\n",
       "      <td>2.221713e+10</td>\n",
       "      <td>7.869289e+11</td>\n",
       "      <td>bitcoin</td>\n",
       "    </tr>\n",
       "  </tbody>\n",
       "</table>\n",
       "<p>3311 rows × 4 columns</p>\n",
       "</div>"
      ],
      "text/plain": [
       "                   price  total_volume    market_cap coin_name\n",
       "date                                                          \n",
       "2015-01-01    313.992000  4.699936e+07  4.293958e+09   bitcoin\n",
       "2015-01-02    314.446000  3.885591e+07  4.301448e+09   bitcoin\n",
       "2015-01-03    286.572000  1.187789e+08  3.921358e+09   bitcoin\n",
       "2015-01-04    260.936000  2.055001e+08  3.571640e+09   bitcoin\n",
       "2015-01-05    273.220000  1.550381e+08  3.740880e+09   bitcoin\n",
       "...                  ...           ...           ...       ...\n",
       "2024-01-21  41626.107110  9.533488e+09  8.172176e+11   bitcoin\n",
       "2024-01-22  41541.899457  8.032697e+09  8.147094e+11   bitcoin\n",
       "2024-01-23  39504.730058  3.120285e+10  7.750209e+11   bitcoin\n",
       "2024-01-24  39833.454105  2.968333e+10  7.791334e+11   bitcoin\n",
       "2024-01-25  40123.671058  2.221713e+10  7.869289e+11   bitcoin\n",
       "\n",
       "[3311 rows x 4 columns]"
      ]
     },
     "execution_count": 20,
     "metadata": {},
     "output_type": "execute_result"
    }
   ],
   "source": [
    "# Read and show bitcoin table\n",
    "#sort by Date\n",
    "df = pd.read_csv('bitcoin.csv',index_col='date')\n",
    "df.index = pd.to_datetime(df.index)\n",
    "df"
   ]
  },
  {
   "cell_type": "markdown",
   "id": "c39bf51a",
   "metadata": {},
   "source": [
    "### Data Cleaning"
   ]
  },
  {
   "cell_type": "code",
   "execution_count": 4,
   "id": "fbe27b9d",
   "metadata": {},
   "outputs": [
    {
     "name": "stdout",
     "output_type": "stream",
     "text": [
      "<class 'pandas.core.frame.DataFrame'>\n",
      "DatetimeIndex: 3311 entries, 2015-01-01 00:00:00 to 2024-01-25 00:00:00\n",
      "Data columns (total 4 columns):\n",
      " #   Column        Non-Null Count  Dtype  \n",
      "---  ------        --------------  -----  \n",
      " 0   price         3311 non-null   float64\n",
      " 1   total_volume  3311 non-null   float64\n",
      " 2   market_cap    3310 non-null   float64\n",
      " 3   coin_name     3311 non-null   object \n",
      "dtypes: float64(3), object(1)\n",
      "memory usage: 129.3+ KB\n"
     ]
    }
   ],
   "source": [
    "# info about table\n",
    "df.info()"
   ]
  },
  {
   "cell_type": "code",
   "execution_count": 21,
   "id": "538e0896",
   "metadata": {
    "scrolled": true
   },
   "outputs": [
    {
     "name": "stdout",
     "output_type": "stream",
     "text": [
      "               price  total_volume  market_cap coin_name\n",
      "date                                                    \n",
      "2017-04-02  1098.068  8.023151e+07         NaN   bitcoin\n",
      "---------\n",
      "0\n"
     ]
    }
   ],
   "source": [
    "#Analyze the row with incomplete data and fill it.\n",
    "rows_with_null = df[df['market_cap'].isnull()]\n",
    "print(rows_with_null)\n",
    "\n",
    "# Check for missing values in 'market_cap' and impute with the mean\n",
    "df['market_cap'] = df['market_cap'].fillna(df['market_cap'].mean())\n",
    "\n",
    "# Verify if the missing value has been handled\n",
    "print(\"---------\")\n",
    "print(df['market_cap'].isnull().sum())"
   ]
  },
  {
   "cell_type": "code",
   "execution_count": 22,
   "id": "cf1b1286",
   "metadata": {},
   "outputs": [
    {
     "name": "stdout",
     "output_type": "stream",
     "text": [
      "Empty DataFrame\n",
      "Columns: [price, total_volume, market_cap, coin_name]\n",
      "Index: []\n"
     ]
    }
   ],
   "source": [
    "#Analyze the row with incomplete data and fill it.\n",
    "rows_with_null = df[df['market_cap'].isnull()]\n",
    "print(rows_with_null)"
   ]
  },
  {
   "cell_type": "markdown",
   "id": "1a083f08",
   "metadata": {},
   "source": [
    "### BITCOIN PRICE GRAPH"
   ]
  },
  {
   "cell_type": "code",
   "execution_count": 24,
   "id": "ba0270a1",
   "metadata": {
    "scrolled": false
   },
   "outputs": [
    {
     "data": {
      "image/png": "[encoded data removed]",
      "text/plain": [
       "<Figure size 1200x600 with 1 Axes>"
      ]
     },
     "metadata": {},
     "output_type": "display_data"
    }
   ],
   "source": [
    "# Price of bitcoin showed on a graph \n",
    "df['price'].plot(figsize=(12,6))\n",
    "plt.title(\"Bitcoin price over time\")\n",
    "plt.show()"
   ]
  },
  {
   "cell_type": "markdown",
   "id": "e1613dbf",
   "metadata": {},
   "source": [
    "### ZAKLJUCAK "
   ]
  },
  {
   "cell_type": "markdown",
   "id": "4763572f",
   "metadata": {},
   "source": [
    "Koristan projekat: https://github.com/manthanthakker/BitcoinPrediction/blob/master/BitcoinPredictionRNN.ipynb\n",
    "\n",
    "ZAKLJUCAK\n",
    "\n",
    "1. Ubacio bih u ovu tabelu kada se desavao bitcoin halving i ostale faktore poput ETF-a\n",
    "    koji uticu na skok cene. Na primer dodati kolonu u tabeli \"BULL RUN\" sa vrednostima yes i no \n",
    "    i u zavisnosti od ovog faktora cena skace.\n",
    "2. Tabela ima 5 kolona i 3312 redova. Podaci su bili laki za preprocess. \n"
   ]
  }
 ],
 "metadata": {
  "kernelspec": {
   "display_name": "Python 3 (ipykernel)",
   "language": "python",
   "name": "python3"
  },
  "language_info": {
   "codemirror_mode": {
    "name": "ipython",
    "version": 3
   },
   "file_extension": ".py",
   "mimetype": "text/x-python",
   "name": "python",
   "nbconvert_exporter": "python",
   "pygments_lexer": "ipython3",
   "version": "3.9.17"
  }
 },
 "nbformat": 4,
 "nbformat_minor": 5
}
